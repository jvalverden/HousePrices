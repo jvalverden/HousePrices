{
 "cells": [
  {
   "cell_type": "code",
   "execution_count": 36,
   "id": "dee2c6ab",
   "metadata": {},
   "outputs": [],
   "source": [
    "import torch\n",
    "import torch.nn as nn\n",
    "import torch.nn.functional as F\n",
    "import numpy as np\n",
    "import pandas as pd\n",
    "import matplotlib.pyplot as plt\n",
    "from sklearn.preprocessing import LabelEncoder\n",
    "from sklearn.model_selection import KFold\n",
    "import time\n",
    "import seaborn as sns\n",
    "from datetime import datetime as dt\n",
    "from models.Regression import MLPRegressor\n",
    "from sklearn.metrics import mean_squared_error, r2_score, mean_absolute_error\n",
    "from copy import deepcopy"
   ]
  },
  {
   "cell_type": "code",
   "execution_count": 4,
   "id": "f0482c90",
   "metadata": {},
   "outputs": [],
   "source": [
    "data_name ='housing_price'"
   ]
  },
  {
   "cell_type": "code",
   "execution_count": 5,
   "id": "8dff187e",
   "metadata": {},
   "outputs": [],
   "source": [
    "train = pd.read_csv('train.csv')\n",
    "test = pd.read_csv('test.csv')"
   ]
  },
  {
   "cell_type": "code",
   "execution_count": 6,
   "id": "db4eb05e",
   "metadata": {},
   "outputs": [],
   "source": [
    "train.fillna({'Alley':'None', 'BsmtQual':'None','BsmtCond':'None','BsmtExposure':'None','BsmtFinType1':'None','BsmtFinType2':'None','FireplaceQu':'None','GarageType':'None',\n",
    "              'MasVnrType':'None','GarageFinish':'None','GarageQual':'None','GarageCond':'None','PoolQC':'None','MiscFeature':'None','Fence':'None'}, inplace=True)\n",
    "test.fillna({'Alley':'None', 'BsmtQual':'None','BsmtCond':'None','BsmtExposure':'None','BsmtFinType1':'None','BsmtFinType2':'None','FireplaceQu':'None','GarageType':'None',\n",
    "              'MasVnrType':'None','GarageFinish':'None','GarageQual':'None','GarageCond':'None','PoolQC':'None','MiscFeature':'None','Fence':'None'}, inplace=True)"
   ]
  },
  {
   "cell_type": "code",
   "execution_count": 7,
   "id": "eba5c82f",
   "metadata": {},
   "outputs": [],
   "source": [
    "obs = len(train)\n",
    "\n",
    "# Divide obs in half to get half batch size\n",
    "batch_size = obs // 2"
   ]
  },
  {
   "cell_type": "code",
   "execution_count": 8,
   "id": "ae09e17c",
   "metadata": {},
   "outputs": [],
   "source": [
    "nan_columns = train[train.columns[train.isna().any()]]\n",
    "cols = train.columns\n",
    "num_cols = train._get_numeric_data().columns\n",
    "categorical_columns = list(set(cols) - set(num_cols))"
   ]
  },
  {
   "cell_type": "code",
   "execution_count": 9,
   "id": "531d7f2d",
   "metadata": {},
   "outputs": [],
   "source": [
    "label_encoder = LabelEncoder()\n",
    "for col_name in categorical_columns:\n",
    "    series_train = train[col_name]\n",
    "    series_test = train[col_name]\n",
    "    train[col_name] = pd.Series(\n",
    "        label_encoder.fit_transform(series_train[series_train.notnull()]),\n",
    "        index=series_train[series_train.notnull()].index)\n",
    "    test[col_name] = pd.Series(\n",
    "        label_encoder.fit_transform(series_test[series_test.notnull()]),\n",
    "        index=series_test[series_test.notnull()].index)"
   ]
  },
  {
   "cell_type": "code",
   "execution_count": 10,
   "id": "dcca5c84",
   "metadata": {},
   "outputs": [],
   "source": [
    "train.dropna(inplace=True) "
   ]
  },
  {
   "cell_type": "code",
   "execution_count": 11,
   "id": "8f6f5e1c",
   "metadata": {},
   "outputs": [],
   "source": [
    "num_col = train[num_cols]\n",
    "cat_col = train[categorical_columns]\n",
    "y = train.SalePrice.squeeze()"
   ]
  },
  {
   "cell_type": "code",
   "execution_count": 12,
   "id": "c3d10d25",
   "metadata": {},
   "outputs": [],
   "source": [
    "def get_high_corr_list(X: pd.DataFrame, y: pd.Series, threshold: float) -> list:\n",
    "    # create the list of features with corr_abs > 0.5\n",
    "    corr_abs = np.abs(X.corrwith(y))\n",
    "    strong_corr = corr_abs[corr_abs> threshold]\n",
    "    features = list(strong_corr.index)\n",
    "    return features"
   ]
  },
  {
   "cell_type": "code",
   "execution_count": 13,
   "id": "6dbbc978",
   "metadata": {},
   "outputs": [],
   "source": [
    "feature_list_num = get_high_corr_list(num_col, y, 0.01)"
   ]
  },
  {
   "cell_type": "code",
   "execution_count": 14,
   "id": "7b3f3240",
   "metadata": {},
   "outputs": [],
   "source": [
    "feature_list_cat = get_high_corr_list(cat_col, y, 0.01)"
   ]
  },
  {
   "cell_type": "code",
   "execution_count": 15,
   "id": "c133661e",
   "metadata": {
    "scrolled": false
   },
   "outputs": [],
   "source": [
    "y = ['SalePrice']\n",
    "\n",
    "train_feature_num = train[feature_list_num].copy()\n",
    "train_feature_cat = train[feature_list_cat].copy()\n",
    "\n",
    "for cat in train_feature_cat.columns:\n",
    "    train_feature_cat.loc[:, cat] = train_feature_cat.loc[:, cat].astype('category')\n",
    "\n",
    "cats = np.stack([train_feature_cat[col].cat.codes.values for col in train_feature_cat.columns], 1)\n",
    "cats = torch.tensor(cats, dtype=torch.int64)\n",
    "\n",
    "conts = np.stack([train_feature_num[col].values for col in train_feature_num.columns], 1)\n",
    "conts = torch.tensor(conts, dtype=torch.float)\n",
    "\n",
    "y = torch.tensor(train[y].values, dtype=torch.float).reshape(-1,1)\n",
    "\n",
    "cat_szs = [len(train_feature_cat[col].cat.categories) for col in train_feature_cat.columns]\n"
   ]
  },
  {
   "cell_type": "code",
   "execution_count": 16,
   "id": "9bb6b19a",
   "metadata": {},
   "outputs": [
    {
     "name": "stdout",
     "output_type": "stream",
     "text": [
      "[(5, 3), (25, 13), (4, 2), (8, 4), (2, 1), (5, 3), (6, 3), (5, 3), (4, 2), (6, 3), (5, 3), (2, 1), (3, 2), (5, 3), (4, 2), (7, 4), (6, 3), (9, 5), (7, 4), (3, 2), (3, 2), (6, 3), (9, 5), (4, 2), (5, 3), (7, 4), (6, 3), (3, 2), (5, 3), (5, 3), (4, 2), (4, 2), (16, 8), (5, 3), (5, 3), (6, 3), (5, 3), (4, 2), (5, 3), (5, 3), (4, 2), (14, 7)]\n"
     ]
    }
   ],
   "source": [
    "emb_szs = [(size, min(50, (size+1)//2)) for size in cat_szs]\n",
    "print(emb_szs)"
   ]
  },
  {
   "cell_type": "code",
   "execution_count": 17,
   "id": "67429893",
   "metadata": {},
   "outputs": [
    {
     "name": "stdout",
     "output_type": "stream",
     "text": [
      "[INFO] Model definition\n",
      "MLPRegressor(\n",
      "  (embeds): ModuleList(\n",
      "    (0): Embedding(5, 3)\n",
      "    (1): Embedding(25, 13)\n",
      "    (2): Embedding(4, 2)\n",
      "    (3): Embedding(8, 4)\n",
      "    (4): Embedding(2, 1)\n",
      "    (5): Embedding(5, 3)\n",
      "    (6): Embedding(6, 3)\n",
      "    (7): Embedding(5, 3)\n",
      "    (8): Embedding(4, 2)\n",
      "    (9): Embedding(6, 3)\n",
      "    (10): Embedding(5, 3)\n",
      "    (11): Embedding(2, 1)\n",
      "    (12): Embedding(3, 2)\n",
      "    (13): Embedding(5, 3)\n",
      "    (14): Embedding(4, 2)\n",
      "    (15): Embedding(7, 4)\n",
      "    (16): Embedding(6, 3)\n",
      "    (17): Embedding(9, 5)\n",
      "    (18): Embedding(7, 4)\n",
      "    (19): Embedding(3, 2)\n",
      "    (20): Embedding(3, 2)\n",
      "    (21): Embedding(6, 3)\n",
      "    (22): Embedding(9, 5)\n",
      "    (23): Embedding(4, 2)\n",
      "    (24): Embedding(5, 3)\n",
      "    (25): Embedding(7, 4)\n",
      "    (26): Embedding(6, 3)\n",
      "    (27): Embedding(3, 2)\n",
      "    (28): Embedding(5, 3)\n",
      "    (29): Embedding(5, 3)\n",
      "    (30): Embedding(4, 2)\n",
      "    (31): Embedding(4, 2)\n",
      "    (32): Embedding(16, 8)\n",
      "    (33): Embedding(5, 3)\n",
      "    (34): Embedding(5, 3)\n",
      "    (35): Embedding(6, 3)\n",
      "    (36): Embedding(5, 3)\n",
      "    (37): Embedding(4, 2)\n",
      "    (38): Embedding(5, 3)\n",
      "    (39): Embedding(5, 3)\n",
      "    (40): Embedding(4, 2)\n",
      "    (41): Embedding(14, 7)\n",
      "  )\n",
      "  (emb_drop): Dropout(p=0.4, inplace=False)\n",
      "  (bn_cont): BatchNorm1d(37, eps=1e-05, momentum=0.1, affine=True, track_running_stats=True)\n",
      "  (layers): Sequential(\n",
      "    (0): Linear(in_features=174, out_features=200, bias=True)\n",
      "    (1): ReLU(inplace=True)\n",
      "    (2): BatchNorm1d(200, eps=1e-05, momentum=0.1, affine=True, track_running_stats=True)\n",
      "    (3): Dropout(p=0.4, inplace=False)\n",
      "    (4): Linear(in_features=200, out_features=100, bias=True)\n",
      "    (5): ReLU(inplace=True)\n",
      "    (6): BatchNorm1d(100, eps=1e-05, momentum=0.1, affine=True, track_running_stats=True)\n",
      "    (7): Dropout(p=0.4, inplace=False)\n",
      "    (8): Linear(in_features=100, out_features=1, bias=True)\n",
      "  )\n",
      ")\n",
      "================================================================================\n"
     ]
    }
   ],
   "source": [
    "torch.manual_seed(123)\n",
    "model = MLPRegressor(emb_szs, conts.shape[1], out_sz=1, layers=[200,100], p=0.4)\n",
    "print('[INFO] Model definition')\n",
    "print(model)\n",
    "print('='* 80)"
   ]
  },
  {
   "cell_type": "code",
   "execution_count": 18,
   "id": "8a71c19f",
   "metadata": {},
   "outputs": [],
   "source": [
    "# split the data\n",
    "test_size = int(batch_size * .3)\n",
    "cat_train = cats[:batch_size-test_size]\n",
    "cat_test = cats[batch_size-test_size:batch_size]\n",
    "con_train = conts[:batch_size-test_size]\n",
    "con_test = conts[batch_size-test_size:batch_size]\n",
    "y_train = y[:batch_size-test_size]\n",
    "y_test = y[batch_size-test_size:batch_size]"
   ]
  },
  {
   "cell_type": "code",
   "execution_count": 19,
   "id": "5dbb28e0",
   "metadata": {},
   "outputs": [],
   "source": [
    "# Train model\n",
    "def train_model(model, y_train, categorical_train, continuous_train,\n",
    "          y_val, categorical_valid, continuous_valid,\n",
    "          learning_rate=0.001, epochs=300, print_out_interval=2):\n",
    "\n",
    "    global criterion\n",
    "    criterion = nn.MSELoss()  # we'll convert this to RMSE later\n",
    "    optimizer = torch.optim.Adam(model.parameters(), lr=learning_rate)\n",
    "    start_time = time.time()\n",
    "    model.train()\n",
    "\n",
    "    losses = []\n",
    "    preds = []\n",
    "\n",
    "    for i in range(epochs):\n",
    "        i+=1 #Zero indexing trick to start the print out at epoch 1\n",
    "        y_pred = model(categorical_train, continuous_train)\n",
    "        preds.append(y_pred)\n",
    "        loss = torch.sqrt(criterion(y_pred, y_train)) # RMSE\n",
    "        losses.append(loss)\n",
    "        \n",
    "        if i%print_out_interval == 1:\n",
    "            print(f'epoch: {i:3}  loss: {loss.item():10.8f}')\n",
    "\n",
    "        optimizer.zero_grad()\n",
    "        loss.backward()\n",
    "        optimizer.step()\n",
    "\n",
    "    print('='*80)\n",
    "    print(f'epoch: {i:3}  loss: {loss.item():10.8f}') # print the last line\n",
    "    print(f'Duration: {time.time() - start_time:.0f} seconds') # print the time elapsed\n",
    "\n",
    "    # Evaluate model\n",
    "    with torch.no_grad():\n",
    "        y_val = model(categorical_valid, continuous_valid)\n",
    "        mse = criterion(y_val, y_test)\n",
    "        rmse = torch.sqrt(criterion(y_val, y_test))\n",
    "        r2 = r2_score(y_test.cpu().numpy(), y_val.cpu().numpy())\n",
    "        mae = F.l1_loss(y_val, y_test)\n",
    "        num_feature = len(cat_test)+len(con_test)\n",
    "    print(f'Number of features: {num_feature}\\nMSE: {mse}\\nRMSE: {rmse}\\nR-squared: {r2}\\nMAE: {mae}\\nRMSE: {loss:.8f}')\n",
    "\n",
    "\n",
    "    # Create empty list to store my results\n",
    "    preds = []\n",
    "    diffs = []\n",
    "    actuals = []\n",
    "\n",
    "    for i in range(len(categorical_valid)):\n",
    "        diff = np.abs(y_val[i].item() - y_test[i].item())\n",
    "        pred = y_val[i].item()\n",
    "        actual = y_test[i].item()\n",
    "\n",
    "        diffs.append(diff)\n",
    "        preds.append(pred)\n",
    "        actuals.append(actual)\n",
    "\n",
    "    valid_results_dict = {\n",
    "        'predictions': preds,\n",
    "        'diffs': diffs,\n",
    "        'actuals': actuals\n",
    "    }\n",
    "\n",
    "    # Save model\n",
    "    torch.save(model.state_dict(), f'model_artifacts/{data_name}_{epochs}.pt')\n",
    "    # Return components to use later\n",
    "    return losses, preds, diffs, actuals, model, valid_results_dict, epochs"
   ]
  },
  {
   "cell_type": "code",
   "execution_count": 20,
   "id": "a3257b5e",
   "metadata": {},
   "outputs": [
    {
     "name": "stdout",
     "output_type": "stream",
     "text": [
      "epoch:   1  loss: 205406.34375000\n",
      "epoch: 501  loss: 197144.07812500\n",
      "epoch: 1001  loss: 173825.06250000\n",
      "epoch: 1501  loss: 139236.89062500\n",
      "epoch: 2001  loss: 99613.35937500\n",
      "epoch: 2501  loss: 58503.49609375\n",
      "epoch: 3001  loss: 20705.85351562\n",
      "epoch: 3501  loss: 18631.02539062\n",
      "================================================================================\n",
      "epoch: 4000  loss: 18273.30468750\n",
      "Duration: 47 seconds\n",
      "Number of features: 438\n",
      "MSE: 584959616.0\n",
      "RMSE: 24185.9375\n",
      "R-squared: 0.933705344787467\n",
      "MAE: 14503.7421875\n",
      "RMSE: 18273.30468750\n"
     ]
    }
   ],
   "source": [
    "losses, preds, diffs, actuals, model, valid_results_dict, epochs = train_model(\n",
    "            model=model, y_train=y_train, \n",
    "            categorical_train=cat_train, \n",
    "            continuous_train=con_train,\n",
    "            y_val=y_test, \n",
    "            categorical_valid=cat_test,\n",
    "            continuous_valid=con_test,\n",
    "            learning_rate=0.01, \n",
    "            epochs=4000, \n",
    "            print_out_interval=500)"
   ]
  },
  {
   "cell_type": "code",
   "execution_count": 42,
   "id": "8501f87b",
   "metadata": {},
   "outputs": [
    {
     "name": "stdout",
     "output_type": "stream",
     "text": [
      "epoch:   1  loss: 205406.40625000\n",
      "epoch: 501  loss: 197140.48437500\n",
      "epoch: 1001  loss: 173822.54687500\n",
      "epoch: 1501  loss: 139229.01562500\n",
      "epoch: 2001  loss: 99661.99218750\n",
      "epoch: 2501  loss: 58459.72656250\n",
      "epoch: 3001  loss: 21384.02734375\n",
      "epoch: 3501  loss: 18948.96289062\n",
      "epoch: 4001  loss: 18435.49804688\n",
      "================================================================================\n",
      "epoch: 4500  loss: 17609.35742188\n",
      "Duration: 46 seconds\n",
      "Number of features: 438\n",
      "MSE: 577276608.0\n",
      "RMSE: 24026.58203125\n",
      "R-squared: 0.9345760686039674\n",
      "MAE: 15033.298828125\n",
      "RMSE: 17609.35742188\n"
     ]
    }
   ],
   "source": [
    "losses, preds, diffs, actuals, model, valid_results_dict, epochs = train_model(\n",
    "            model=model, y_train=y_train, \n",
    "            categorical_train=cat_train, \n",
    "            continuous_train=con_train,\n",
    "            y_val=y_test, \n",
    "            categorical_valid=cat_test,\n",
    "            continuous_valid=con_test,\n",
    "            learning_rate=0.01, \n",
    "            epochs=4500, \n",
    "            print_out_interval=500)"
   ]
  },
  {
   "cell_type": "code",
   "execution_count": 34,
   "id": "89420101",
   "metadata": {},
   "outputs": [],
   "source": [
    "def split_features(df):\n",
    "    num_cols = df.select_dtypes(include=['float64', 'int64']).columns\n",
    "    categorical_cols = df.select_dtypes(include=['object']).columns\n",
    "    \n",
    "    num_df = df[num_cols]\n",
    "    cat_df = df[categorical_cols]\n",
    "    \n",
    "    return cat_df, num_df"
   ]
  },
  {
   "cell_type": "code",
   "execution_count": 37,
   "id": "32ea6055",
   "metadata": {},
   "outputs": [],
   "source": [
    "def cross_validate(model, X, y, k=5, learning_rate=0.001, epochs=300, print_out_interval=2):\n",
    "    kf = KFold(n_splits=k, shuffle=True, random_state=42)\n",
    "    losses = []\n",
    "    preds = []\n",
    "    diffs = []\n",
    "    actuals = []\n",
    "    models = []\n",
    "\n",
    "    for fold, (train_idx, val_idx) in enumerate(kf.split(X)):\n",
    "        X_train, X_val = X.iloc[train_idx], X.iloc[val_idx]\n",
    "        y_train, y_val = y.iloc[train_idx], y.iloc[val_idx]\n",
    "        \n",
    "        # Prepare data\n",
    "        categorical_train, continuous_train = split_features(X_train)\n",
    "        categorical_val, continuous_val = split_features(X_val)\n",
    "\n",
    "        # Train model\n",
    "        model_clone = deepcopy(model)\n",
    "        loss, pred, diff, actual, trained_model, valid_results_dict, epoch = train_model(model_clone,y_train,categorical_train, continuous_train,y_val,categorical_val, continuous_val,learning_rate=learning_rate,epochs=epochs,print_out_interval=print_out_interval)\n",
    "\n",
    "        losses.append(loss)\n",
    "        preds.append(pred)\n",
    "        diffs.append(diff)\n",
    "        actuals.append(actual)\n",
    "        models.append(trained_model)\n",
    "        \n",
    "        # Visualise results for current fold\n",
    "        valid_res = pd.DataFrame(valid_results_dict)\n",
    "        plt.figure()\n",
    "        sns.scatterplot(data=valid_res, \n",
    "                        x='predictions', y='actuals', size='diffs', hue='diffs')\n",
    "        plt.title(f'Fold {fold+1} - Validation Result')\n",
    "        plt.show()\n",
    "\n",
    "    return losses, preds, diffs, actuals, models"
   ]
  },
  {
   "cell_type": "code",
   "execution_count": null,
   "id": "ad571f54",
   "metadata": {},
   "outputs": [],
   "source": [
    "num_col = train[num_cols]\n",
    "cat_col = train[categorical_columns]"
   ]
  },
  {
   "cell_type": "code",
   "execution_count": 38,
   "id": "e3c040ff",
   "metadata": {},
   "outputs": [
    {
     "ename": "InvalidIndexError",
     "evalue": "(slice(None, None, None), 0)",
     "output_type": "error",
     "traceback": [
      "\u001B[0;31m---------------------------------------------------------------------------\u001B[0m",
      "\u001B[0;31mTypeError\u001B[0m                                 Traceback (most recent call last)",
      "\u001B[0;32m~/opt/anaconda3/lib/python3.9/site-packages/pandas/core/indexes/base.py\u001B[0m in \u001B[0;36mget_loc\u001B[0;34m(self, key, method, tolerance)\u001B[0m\n\u001B[1;32m   3628\u001B[0m             \u001B[0;32mtry\u001B[0m\u001B[0;34m:\u001B[0m\u001B[0;34m\u001B[0m\u001B[0;34m\u001B[0m\u001B[0m\n\u001B[0;32m-> 3629\u001B[0;31m                 \u001B[0;32mreturn\u001B[0m \u001B[0mself\u001B[0m\u001B[0;34m.\u001B[0m\u001B[0m_engine\u001B[0m\u001B[0;34m.\u001B[0m\u001B[0mget_loc\u001B[0m\u001B[0;34m(\u001B[0m\u001B[0mcasted_key\u001B[0m\u001B[0;34m)\u001B[0m\u001B[0;34m\u001B[0m\u001B[0;34m\u001B[0m\u001B[0m\n\u001B[0m\u001B[1;32m   3630\u001B[0m             \u001B[0;32mexcept\u001B[0m \u001B[0mKeyError\u001B[0m \u001B[0;32mas\u001B[0m \u001B[0merr\u001B[0m\u001B[0;34m:\u001B[0m\u001B[0;34m\u001B[0m\u001B[0;34m\u001B[0m\u001B[0m\n",
      "\u001B[0;32m~/opt/anaconda3/lib/python3.9/site-packages/pandas/_libs/index.pyx\u001B[0m in \u001B[0;36mpandas._libs.index.IndexEngine.get_loc\u001B[0;34m()\u001B[0m\n",
      "\u001B[0;32m~/opt/anaconda3/lib/python3.9/site-packages/pandas/_libs/index.pyx\u001B[0m in \u001B[0;36mpandas._libs.index.IndexEngine.get_loc\u001B[0;34m()\u001B[0m\n",
      "\u001B[0;31mTypeError\u001B[0m: '(slice(None, None, None), 0)' is an invalid key",
      "\nDuring handling of the above exception, another exception occurred:\n",
      "\u001B[0;31mInvalidIndexError\u001B[0m                         Traceback (most recent call last)",
      "\u001B[0;32m/var/folders/tk/_7khhn2d6jq8cw0tlm7dm2lc0000gn/T/ipykernel_88220/1054352686.py\u001B[0m in \u001B[0;36m<module>\u001B[0;34m\u001B[0m\n\u001B[1;32m      1\u001B[0m \u001B[0mX\u001B[0m \u001B[0;34m=\u001B[0m \u001B[0mtrain\u001B[0m\u001B[0;34m[\u001B[0m\u001B[0mnum_col\u001B[0m\u001B[0;34m+\u001B[0m\u001B[0mcat_col\u001B[0m\u001B[0;34m]\u001B[0m\u001B[0;34m\u001B[0m\u001B[0;34m\u001B[0m\u001B[0m\n\u001B[1;32m      2\u001B[0m \u001B[0my\u001B[0m \u001B[0;34m=\u001B[0m \u001B[0mtrain\u001B[0m\u001B[0;34m.\u001B[0m\u001B[0mloc\u001B[0m\u001B[0;34m[\u001B[0m\u001B[0mX\u001B[0m\u001B[0;34m.\u001B[0m\u001B[0mindex\u001B[0m\u001B[0;34m,\u001B[0m \u001B[0;34m'SalePrice'\u001B[0m\u001B[0;34m]\u001B[0m\u001B[0;34m\u001B[0m\u001B[0;34m\u001B[0m\u001B[0m\n\u001B[0;32m----> 3\u001B[0;31m \u001B[0mcross_validate\u001B[0m\u001B[0;34m(\u001B[0m\u001B[0mmodel\u001B[0m\u001B[0;34m,\u001B[0m \u001B[0mX\u001B[0m\u001B[0;34m,\u001B[0m \u001B[0my\u001B[0m\u001B[0;34m)\u001B[0m\u001B[0;34m\u001B[0m\u001B[0;34m\u001B[0m\u001B[0m\n\u001B[0m",
      "\u001B[0;32m/var/folders/tk/_7khhn2d6jq8cw0tlm7dm2lc0000gn/T/ipykernel_88220/1020091661.py\u001B[0m in \u001B[0;36mcross_validate\u001B[0;34m(model, X, y, k, learning_rate, epochs, print_out_interval)\u001B[0m\n\u001B[1;32m     17\u001B[0m         \u001B[0;31m# Train model\u001B[0m\u001B[0;34m\u001B[0m\u001B[0;34m\u001B[0m\u001B[0m\n\u001B[1;32m     18\u001B[0m         \u001B[0mmodel_clone\u001B[0m \u001B[0;34m=\u001B[0m \u001B[0mdeepcopy\u001B[0m\u001B[0;34m(\u001B[0m\u001B[0mmodel\u001B[0m\u001B[0;34m)\u001B[0m\u001B[0;34m\u001B[0m\u001B[0;34m\u001B[0m\u001B[0m\n\u001B[0;32m---> 19\u001B[0;31m         \u001B[0mloss\u001B[0m\u001B[0;34m,\u001B[0m \u001B[0mpred\u001B[0m\u001B[0;34m,\u001B[0m \u001B[0mdiff\u001B[0m\u001B[0;34m,\u001B[0m \u001B[0mactual\u001B[0m\u001B[0;34m,\u001B[0m \u001B[0mtrained_model\u001B[0m\u001B[0;34m,\u001B[0m \u001B[0mvalid_results_dict\u001B[0m\u001B[0;34m,\u001B[0m \u001B[0mepoch\u001B[0m \u001B[0;34m=\u001B[0m \u001B[0mtrain_model\u001B[0m\u001B[0;34m(\u001B[0m\u001B[0mmodel_clone\u001B[0m\u001B[0;34m,\u001B[0m\u001B[0my_train\u001B[0m\u001B[0;34m,\u001B[0m\u001B[0mcategorical_train\u001B[0m\u001B[0;34m,\u001B[0m \u001B[0mcontinuous_train\u001B[0m\u001B[0;34m,\u001B[0m\u001B[0my_val\u001B[0m\u001B[0;34m,\u001B[0m\u001B[0mcategorical_val\u001B[0m\u001B[0;34m,\u001B[0m \u001B[0mcontinuous_val\u001B[0m\u001B[0;34m,\u001B[0m\u001B[0mlearning_rate\u001B[0m\u001B[0;34m=\u001B[0m\u001B[0mlearning_rate\u001B[0m\u001B[0;34m,\u001B[0m\u001B[0mepochs\u001B[0m\u001B[0;34m=\u001B[0m\u001B[0mepochs\u001B[0m\u001B[0;34m,\u001B[0m\u001B[0mprint_out_interval\u001B[0m\u001B[0;34m=\u001B[0m\u001B[0mprint_out_interval\u001B[0m\u001B[0;34m)\u001B[0m\u001B[0;34m\u001B[0m\u001B[0;34m\u001B[0m\u001B[0m\n\u001B[0m\u001B[1;32m     20\u001B[0m \u001B[0;34m\u001B[0m\u001B[0m\n\u001B[1;32m     21\u001B[0m         \u001B[0mlosses\u001B[0m\u001B[0;34m.\u001B[0m\u001B[0mappend\u001B[0m\u001B[0;34m(\u001B[0m\u001B[0mloss\u001B[0m\u001B[0;34m)\u001B[0m\u001B[0;34m\u001B[0m\u001B[0;34m\u001B[0m\u001B[0m\n",
      "\u001B[0;32m/var/folders/tk/_7khhn2d6jq8cw0tlm7dm2lc0000gn/T/ipykernel_88220/1633404820.py\u001B[0m in \u001B[0;36mtrain_model\u001B[0;34m(model, y_train, categorical_train, continuous_train, y_val, categorical_valid, continuous_valid, learning_rate, epochs, print_out_interval)\u001B[0m\n\u001B[1;32m     15\u001B[0m     \u001B[0;32mfor\u001B[0m \u001B[0mi\u001B[0m \u001B[0;32min\u001B[0m \u001B[0mrange\u001B[0m\u001B[0;34m(\u001B[0m\u001B[0mepochs\u001B[0m\u001B[0;34m)\u001B[0m\u001B[0;34m:\u001B[0m\u001B[0;34m\u001B[0m\u001B[0;34m\u001B[0m\u001B[0m\n\u001B[1;32m     16\u001B[0m         \u001B[0mi\u001B[0m\u001B[0;34m+=\u001B[0m\u001B[0;36m1\u001B[0m \u001B[0;31m#Zero indexing trick to start the print out at epoch 1\u001B[0m\u001B[0;34m\u001B[0m\u001B[0;34m\u001B[0m\u001B[0m\n\u001B[0;32m---> 17\u001B[0;31m         \u001B[0my_pred\u001B[0m \u001B[0;34m=\u001B[0m \u001B[0mmodel\u001B[0m\u001B[0;34m(\u001B[0m\u001B[0mcategorical_train\u001B[0m\u001B[0;34m,\u001B[0m \u001B[0mcontinuous_train\u001B[0m\u001B[0;34m)\u001B[0m\u001B[0;34m\u001B[0m\u001B[0;34m\u001B[0m\u001B[0m\n\u001B[0m\u001B[1;32m     18\u001B[0m         \u001B[0mpreds\u001B[0m\u001B[0;34m.\u001B[0m\u001B[0mappend\u001B[0m\u001B[0;34m(\u001B[0m\u001B[0my_pred\u001B[0m\u001B[0;34m)\u001B[0m\u001B[0;34m\u001B[0m\u001B[0;34m\u001B[0m\u001B[0m\n\u001B[1;32m     19\u001B[0m         \u001B[0mloss\u001B[0m \u001B[0;34m=\u001B[0m \u001B[0mtorch\u001B[0m\u001B[0;34m.\u001B[0m\u001B[0msqrt\u001B[0m\u001B[0;34m(\u001B[0m\u001B[0mcriterion\u001B[0m\u001B[0;34m(\u001B[0m\u001B[0my_pred\u001B[0m\u001B[0;34m,\u001B[0m \u001B[0my_train\u001B[0m\u001B[0;34m)\u001B[0m\u001B[0;34m)\u001B[0m \u001B[0;31m# RMSE\u001B[0m\u001B[0;34m\u001B[0m\u001B[0;34m\u001B[0m\u001B[0m\n",
      "\u001B[0;32m~/opt/anaconda3/lib/python3.9/site-packages/torch/nn/modules/module.py\u001B[0m in \u001B[0;36m_call_impl\u001B[0;34m(self, *input, **kwargs)\u001B[0m\n\u001B[1;32m   1192\u001B[0m         if not (self._backward_hooks or self._forward_hooks or self._forward_pre_hooks or _global_backward_hooks\n\u001B[1;32m   1193\u001B[0m                 or _global_forward_hooks or _global_forward_pre_hooks):\n\u001B[0;32m-> 1194\u001B[0;31m             \u001B[0;32mreturn\u001B[0m \u001B[0mforward_call\u001B[0m\u001B[0;34m(\u001B[0m\u001B[0;34m*\u001B[0m\u001B[0minput\u001B[0m\u001B[0;34m,\u001B[0m \u001B[0;34m**\u001B[0m\u001B[0mkwargs\u001B[0m\u001B[0;34m)\u001B[0m\u001B[0;34m\u001B[0m\u001B[0;34m\u001B[0m\u001B[0m\n\u001B[0m\u001B[1;32m   1195\u001B[0m         \u001B[0;31m# Do not call functions when jit is used\u001B[0m\u001B[0;34m\u001B[0m\u001B[0;34m\u001B[0m\u001B[0m\n\u001B[1;32m   1196\u001B[0m         \u001B[0mfull_backward_hooks\u001B[0m\u001B[0;34m,\u001B[0m \u001B[0mnon_full_backward_hooks\u001B[0m \u001B[0;34m=\u001B[0m \u001B[0;34m[\u001B[0m\u001B[0;34m]\u001B[0m\u001B[0;34m,\u001B[0m \u001B[0;34m[\u001B[0m\u001B[0;34m]\u001B[0m\u001B[0;34m\u001B[0m\u001B[0;34m\u001B[0m\u001B[0m\n",
      "\u001B[0;32m~/Downloads/ML-project-Estimating-House-Prices--main/ML-project-Estimating-House-Prices-/models/Regression.py\u001B[0m in \u001B[0;36mforward\u001B[0;34m(self, x_cat, x_cont)\u001B[0m\n\u001B[1;32m     28\u001B[0m         \u001B[0membeddings\u001B[0m \u001B[0;34m=\u001B[0m \u001B[0;34m[\u001B[0m\u001B[0;34m]\u001B[0m\u001B[0;34m\u001B[0m\u001B[0;34m\u001B[0m\u001B[0m\n\u001B[1;32m     29\u001B[0m         \u001B[0;32mfor\u001B[0m \u001B[0mi\u001B[0m\u001B[0;34m,\u001B[0m\u001B[0me\u001B[0m \u001B[0;32min\u001B[0m \u001B[0menumerate\u001B[0m\u001B[0;34m(\u001B[0m\u001B[0mself\u001B[0m\u001B[0;34m.\u001B[0m\u001B[0membeds\u001B[0m\u001B[0;34m)\u001B[0m\u001B[0;34m:\u001B[0m\u001B[0;34m\u001B[0m\u001B[0;34m\u001B[0m\u001B[0m\n\u001B[0;32m---> 30\u001B[0;31m              \u001B[0membeddings\u001B[0m\u001B[0;34m.\u001B[0m\u001B[0mappend\u001B[0m\u001B[0;34m(\u001B[0m\u001B[0me\u001B[0m\u001B[0;34m(\u001B[0m\u001B[0mx_cat\u001B[0m\u001B[0;34m[\u001B[0m\u001B[0;34m:\u001B[0m\u001B[0;34m,\u001B[0m\u001B[0mi\u001B[0m\u001B[0;34m]\u001B[0m\u001B[0;34m.\u001B[0m\u001B[0mlong\u001B[0m\u001B[0;34m(\u001B[0m\u001B[0;34m)\u001B[0m\u001B[0;34m)\u001B[0m\u001B[0;34m)\u001B[0m\u001B[0;34m\u001B[0m\u001B[0;34m\u001B[0m\u001B[0m\n\u001B[0m\u001B[1;32m     31\u001B[0m         \u001B[0mx\u001B[0m \u001B[0;34m=\u001B[0m \u001B[0mtorch\u001B[0m\u001B[0;34m.\u001B[0m\u001B[0mcat\u001B[0m\u001B[0;34m(\u001B[0m\u001B[0membeddings\u001B[0m\u001B[0;34m,\u001B[0m \u001B[0;36m1\u001B[0m\u001B[0;34m)\u001B[0m\u001B[0;34m\u001B[0m\u001B[0;34m\u001B[0m\u001B[0m\n\u001B[1;32m     32\u001B[0m         \u001B[0mx\u001B[0m \u001B[0;34m=\u001B[0m \u001B[0mself\u001B[0m\u001B[0;34m.\u001B[0m\u001B[0memb_drop\u001B[0m\u001B[0;34m(\u001B[0m\u001B[0mx\u001B[0m\u001B[0;34m)\u001B[0m\u001B[0;34m\u001B[0m\u001B[0;34m\u001B[0m\u001B[0m\n",
      "\u001B[0;32m~/opt/anaconda3/lib/python3.9/site-packages/pandas/core/frame.py\u001B[0m in \u001B[0;36m__getitem__\u001B[0;34m(self, key)\u001B[0m\n\u001B[1;32m   3503\u001B[0m             \u001B[0;32mif\u001B[0m \u001B[0mself\u001B[0m\u001B[0;34m.\u001B[0m\u001B[0mcolumns\u001B[0m\u001B[0;34m.\u001B[0m\u001B[0mnlevels\u001B[0m \u001B[0;34m>\u001B[0m \u001B[0;36m1\u001B[0m\u001B[0;34m:\u001B[0m\u001B[0;34m\u001B[0m\u001B[0;34m\u001B[0m\u001B[0m\n\u001B[1;32m   3504\u001B[0m                 \u001B[0;32mreturn\u001B[0m \u001B[0mself\u001B[0m\u001B[0;34m.\u001B[0m\u001B[0m_getitem_multilevel\u001B[0m\u001B[0;34m(\u001B[0m\u001B[0mkey\u001B[0m\u001B[0;34m)\u001B[0m\u001B[0;34m\u001B[0m\u001B[0;34m\u001B[0m\u001B[0m\n\u001B[0;32m-> 3505\u001B[0;31m             \u001B[0mindexer\u001B[0m \u001B[0;34m=\u001B[0m \u001B[0mself\u001B[0m\u001B[0;34m.\u001B[0m\u001B[0mcolumns\u001B[0m\u001B[0;34m.\u001B[0m\u001B[0mget_loc\u001B[0m\u001B[0;34m(\u001B[0m\u001B[0mkey\u001B[0m\u001B[0;34m)\u001B[0m\u001B[0;34m\u001B[0m\u001B[0;34m\u001B[0m\u001B[0m\n\u001B[0m\u001B[1;32m   3506\u001B[0m             \u001B[0;32mif\u001B[0m \u001B[0mis_integer\u001B[0m\u001B[0;34m(\u001B[0m\u001B[0mindexer\u001B[0m\u001B[0;34m)\u001B[0m\u001B[0;34m:\u001B[0m\u001B[0;34m\u001B[0m\u001B[0;34m\u001B[0m\u001B[0m\n\u001B[1;32m   3507\u001B[0m                 \u001B[0mindexer\u001B[0m \u001B[0;34m=\u001B[0m \u001B[0;34m[\u001B[0m\u001B[0mindexer\u001B[0m\u001B[0;34m]\u001B[0m\u001B[0;34m\u001B[0m\u001B[0;34m\u001B[0m\u001B[0m\n",
      "\u001B[0;32m~/opt/anaconda3/lib/python3.9/site-packages/pandas/core/indexes/base.py\u001B[0m in \u001B[0;36mget_loc\u001B[0;34m(self, key, method, tolerance)\u001B[0m\n\u001B[1;32m   3634\u001B[0m                 \u001B[0;31m#  InvalidIndexError. Otherwise we fall through and re-raise\u001B[0m\u001B[0;34m\u001B[0m\u001B[0;34m\u001B[0m\u001B[0m\n\u001B[1;32m   3635\u001B[0m                 \u001B[0;31m#  the TypeError.\u001B[0m\u001B[0;34m\u001B[0m\u001B[0;34m\u001B[0m\u001B[0m\n\u001B[0;32m-> 3636\u001B[0;31m                 \u001B[0mself\u001B[0m\u001B[0;34m.\u001B[0m\u001B[0m_check_indexing_error\u001B[0m\u001B[0;34m(\u001B[0m\u001B[0mkey\u001B[0m\u001B[0;34m)\u001B[0m\u001B[0;34m\u001B[0m\u001B[0;34m\u001B[0m\u001B[0m\n\u001B[0m\u001B[1;32m   3637\u001B[0m                 \u001B[0;32mraise\u001B[0m\u001B[0;34m\u001B[0m\u001B[0;34m\u001B[0m\u001B[0m\n\u001B[1;32m   3638\u001B[0m \u001B[0;34m\u001B[0m\u001B[0m\n",
      "\u001B[0;32m~/opt/anaconda3/lib/python3.9/site-packages/pandas/core/indexes/base.py\u001B[0m in \u001B[0;36m_check_indexing_error\u001B[0;34m(self, key)\u001B[0m\n\u001B[1;32m   5649\u001B[0m             \u001B[0;31m# if key is not a scalar, directly raise an error (the code below\u001B[0m\u001B[0;34m\u001B[0m\u001B[0;34m\u001B[0m\u001B[0m\n\u001B[1;32m   5650\u001B[0m             \u001B[0;31m# would convert to numpy arrays and raise later any way) - GH29926\u001B[0m\u001B[0;34m\u001B[0m\u001B[0;34m\u001B[0m\u001B[0m\n\u001B[0;32m-> 5651\u001B[0;31m             \u001B[0;32mraise\u001B[0m \u001B[0mInvalidIndexError\u001B[0m\u001B[0;34m(\u001B[0m\u001B[0mkey\u001B[0m\u001B[0;34m)\u001B[0m\u001B[0;34m\u001B[0m\u001B[0;34m\u001B[0m\u001B[0m\n\u001B[0m\u001B[1;32m   5652\u001B[0m \u001B[0;34m\u001B[0m\u001B[0m\n\u001B[1;32m   5653\u001B[0m     \u001B[0;34m@\u001B[0m\u001B[0mcache_readonly\u001B[0m\u001B[0;34m\u001B[0m\u001B[0;34m\u001B[0m\u001B[0m\n",
      "\u001B[0;31mInvalidIndexError\u001B[0m: (slice(None, None, None), 0)"
     ]
    }
   ],
   "source": [
    "X = train[num_col+cat_col]\n",
    "y = train.loc[X.index, 'SalePrice']\n",
    "cross_validate(model, X, y)"
   ]
  },
  {
   "cell_type": "code",
   "execution_count": 69,
   "id": "de8d7777",
   "metadata": {},
   "outputs": [
    {
     "data": {
      "image/png": "[encoded data removed]",
      "text/plain": [
       "<Figure size 640x480 with 1 Axes>"
      ]
     },
     "metadata": {},
     "output_type": "display_data"
    }
   ],
   "source": [
    "valid_res = pd.DataFrame(valid_results_dict)\n",
    "\n",
    "# Visualise results\n",
    "current_time = dt.now().strftime('%Y-%m-%d_%H-%M-%S')\n",
    "plt.figure()\n",
    "sns.scatterplot(data=valid_res, \n",
    "                x='predictions', y='actuals', size='diffs', hue='diffs')\n",
    "plt.title('Validation Result')\n",
    "plt.show()"
   ]
  },
  {
   "cell_type": "code",
   "execution_count": 73,
   "id": "b6bb42ec",
   "metadata": {},
   "outputs": [
    {
     "data": {
      "image/png": "[encoded data removed]",
      "text/plain": [
       "<Figure size 640x480 with 1 Axes>"
      ]
     },
     "metadata": {},
     "output_type": "display_data"
    }
   ],
   "source": [
    "# Produce validation graph\n",
    "losses_collapsed = [losses[i].item() for i in range(len(epochs))]\n",
    "epochs = [ep+1 for ep in range(len(epochs))]\n",
    "eval_df = pd.DataFrame({\n",
    "    'epochs': epochs,\n",
    "    'loss': losses_collapsed\n",
    "})\n",
    "\n",
    "\n",
    "plt.figure()\n",
    "palette = sns.color_palette(\"mako_r\", 6)\n",
    "sns.lineplot(data=eval_df, x='epochs', y='loss', palette=palette)\n",
    "plt.title('Model training graph, epochs = 4500')\n",
    "plt.show()"
   ]
  },
  {
   "cell_type": "code",
   "execution_count": 17,
   "id": "b94b4a3a",
   "metadata": {},
   "outputs": [],
   "source": [
    "emb_szs1 = [(1120, 50), (15, 8), (107, 50), (816, 50), (9, 5), (8, 4), (109, 50), (61, 31), (282, 50), (524, 50), (108, 50), (678, 50), (623, 50), (655, 50), (350, 50), (727, 50), (3, 2), (3, 2), (4, 2), (3, 2), (7, 4), (3, 2), (10, 5), (4, 2), (97, 49), (4, 2), (394, 50), (222, 50), (176, 50), (99, 50), (16, 8), (63, 32), (7, 4), (17, 9), (12, 6), (5, 3), (570, 50)]"
   ]
  },
  {
   "cell_type": "code",
   "execution_count": 18,
   "id": "4348fd12",
   "metadata": {},
   "outputs": [
    {
     "name": "stdout",
     "output_type": "stream",
     "text": [
      "[INFO] Model definition\n",
      "MLPRegressor(\n",
      "  (embeds): ModuleList(\n",
      "    (0): Embedding(4, 2)\n",
      "    (1): Embedding(3, 2)\n",
      "    (2): Embedding(5, 3)\n",
      "    (3): Embedding(1, 1)\n",
      "    (4): Embedding(5, 3)\n",
      "    (5): Embedding(7, 4)\n",
      "    (6): Embedding(5, 3)\n",
      "    (7): Embedding(16, 8)\n",
      "    (8): Embedding(3, 2)\n",
      "    (9): Embedding(4, 2)\n",
      "    (10): Embedding(6, 3)\n",
      "    (11): Embedding(5, 3)\n",
      "    (12): Embedding(6, 3)\n",
      "    (13): Embedding(6, 3)\n",
      "    (14): Embedding(2, 1)\n",
      "    (15): Embedding(4, 2)\n",
      "    (16): Embedding(6, 3)\n",
      "    (17): Embedding(5, 3)\n",
      "    (18): Embedding(4, 2)\n",
      "    (19): Embedding(5, 3)\n",
      "    (20): Embedding(7, 4)\n",
      "    (21): Embedding(5, 3)\n",
      "    (22): Embedding(9, 5)\n",
      "    (23): Embedding(5, 3)\n",
      "    (24): Embedding(4, 2)\n",
      "    (25): Embedding(4, 2)\n",
      "    (26): Embedding(5, 3)\n",
      "    (27): Embedding(6, 3)\n",
      "    (28): Embedding(4, 2)\n",
      "    (29): Embedding(2, 1)\n",
      "    (30): Embedding(5, 3)\n",
      "    (31): Embedding(8, 4)\n",
      "    (32): Embedding(4, 2)\n",
      "    (33): Embedding(5, 3)\n",
      "    (34): Embedding(25, 13)\n",
      "    (35): Embedding(5, 3)\n",
      "    (36): Embedding(5, 3)\n",
      "    (37): Embedding(3, 2)\n",
      "    (38): Embedding(14, 7)\n",
      "    (39): Embedding(3, 2)\n",
      "    (40): Embedding(9, 5)\n",
      "    (41): Embedding(7, 4)\n",
      "    (42): Embedding(6, 3)\n",
      "  )\n",
      "  (emb_drop): Dropout(p=0.4, inplace=False)\n",
      "  (bn_cont): BatchNorm1d(38, eps=1e-05, momentum=0.1, affine=True, track_running_stats=True)\n",
      "  (layers): Sequential(\n",
      "    (0): Linear(in_features=176, out_features=200, bias=True)\n",
      "    (1): ReLU(inplace=True)\n",
      "    (2): BatchNorm1d(200, eps=1e-05, momentum=0.1, affine=True, track_running_stats=True)\n",
      "    (3): Dropout(p=0.4, inplace=False)\n",
      "    (4): Linear(in_features=200, out_features=100, bias=True)\n",
      "    (5): ReLU(inplace=True)\n",
      "    (6): BatchNorm1d(100, eps=1e-05, momentum=0.1, affine=True, track_running_stats=True)\n",
      "    (7): Dropout(p=0.4, inplace=False)\n",
      "    (8): Linear(in_features=100, out_features=1, bias=True)\n",
      "  )\n",
      ")\n",
      "================================================================================\n"
     ]
    }
   ],
   "source": [
    "torch.manual_seed(123)\n",
    "model = MLPRegressor(emb_szs1, conts.shape[1], out_sz=1, layers=[200,100], p=0.4)\n",
    "print('[INFO] Model definition')\n",
    "print(model)\n",
    "print('='* 80)"
   ]
  },
  {
   "cell_type": "code",
   "execution_count": 19,
   "id": "0f3317fd",
   "metadata": {},
   "outputs": [
    {
     "ename": "RuntimeError",
     "evalue": "Error(s) in loading state_dict for MLPRegressor:\n\tsize mismatch for embeds.0.weight: copying a param with shape torch.Size([25, 13]) from checkpoint, the shape in current model is torch.Size([4, 2]).\n\tsize mismatch for embeds.1.weight: copying a param with shape torch.Size([7, 4]) from checkpoint, the shape in current model is torch.Size([3, 2]).\n\tsize mismatch for embeds.3.weight: copying a param with shape torch.Size([4, 2]) from checkpoint, the shape in current model is torch.Size([1, 1]).\n\tsize mismatch for embeds.5.weight: copying a param with shape torch.Size([14, 7]) from checkpoint, the shape in current model is torch.Size([7, 4]).\n\tsize mismatch for embeds.6.weight: copying a param with shape torch.Size([6, 3]) from checkpoint, the shape in current model is torch.Size([5, 3]).\n\tsize mismatch for embeds.7.weight: copying a param with shape torch.Size([5, 3]) from checkpoint, the shape in current model is torch.Size([16, 8]).\n\tsize mismatch for embeds.8.weight: copying a param with shape torch.Size([4, 2]) from checkpoint, the shape in current model is torch.Size([3, 2]).\n\tsize mismatch for embeds.9.weight: copying a param with shape torch.Size([2, 1]) from checkpoint, the shape in current model is torch.Size([4, 2]).\n\tsize mismatch for embeds.10.weight: copying a param with shape torch.Size([2, 1]) from checkpoint, the shape in current model is torch.Size([6, 3]).\n\tsize mismatch for embeds.13.weight: copying a param with shape torch.Size([7, 4]) from checkpoint, the shape in current model is torch.Size([6, 3]).\n\tsize mismatch for embeds.14.weight: copying a param with shape torch.Size([3, 2]) from checkpoint, the shape in current model is torch.Size([2, 1]).\n\tsize mismatch for embeds.15.weight: copying a param with shape torch.Size([9, 5]) from checkpoint, the shape in current model is torch.Size([4, 2]).\n\tsize mismatch for embeds.16.weight: copying a param with shape torch.Size([5, 3]) from checkpoint, the shape in current model is torch.Size([6, 3]).\n\tsize mismatch for embeds.17.weight: copying a param with shape torch.Size([4, 2]) from checkpoint, the shape in current model is torch.Size([5, 3]).\n\tsize mismatch for embeds.18.weight: copying a param with shape torch.Size([5, 3]) from checkpoint, the shape in current model is torch.Size([4, 2]).\n\tsize mismatch for embeds.20.weight: copying a param with shape torch.Size([3, 2]) from checkpoint, the shape in current model is torch.Size([7, 4]).\n\tsize mismatch for embeds.21.weight: copying a param with shape torch.Size([7, 4]) from checkpoint, the shape in current model is torch.Size([5, 3]).\n\tsize mismatch for embeds.22.weight: copying a param with shape torch.Size([5, 3]) from checkpoint, the shape in current model is torch.Size([9, 5]).\n\tsize mismatch for embeds.23.weight: copying a param with shape torch.Size([4, 2]) from checkpoint, the shape in current model is torch.Size([5, 3]).\n\tsize mismatch for embeds.25.weight: copying a param with shape torch.Size([3, 2]) from checkpoint, the shape in current model is torch.Size([4, 2]).\n\tsize mismatch for embeds.26.weight: copying a param with shape torch.Size([8, 4]) from checkpoint, the shape in current model is torch.Size([5, 3]).\n\tsize mismatch for embeds.27.weight: copying a param with shape torch.Size([5, 3]) from checkpoint, the shape in current model is torch.Size([6, 3]).\n\tsize mismatch for embeds.28.weight: copying a param with shape torch.Size([6, 3]) from checkpoint, the shape in current model is torch.Size([4, 2]).\n\tsize mismatch for embeds.29.weight: copying a param with shape torch.Size([5, 3]) from checkpoint, the shape in current model is torch.Size([2, 1]).\n\tsize mismatch for embeds.31.weight: copying a param with shape torch.Size([6, 3]) from checkpoint, the shape in current model is torch.Size([8, 4]).\n\tsize mismatch for embeds.32.weight: copying a param with shape torch.Size([9, 5]) from checkpoint, the shape in current model is torch.Size([4, 2]).\n\tsize mismatch for embeds.34.weight: copying a param with shape torch.Size([4, 2]) from checkpoint, the shape in current model is torch.Size([25, 13]).\n\tsize mismatch for embeds.35.weight: copying a param with shape torch.Size([4, 2]) from checkpoint, the shape in current model is torch.Size([5, 3]).\n\tsize mismatch for embeds.36.weight: copying a param with shape torch.Size([3, 2]) from checkpoint, the shape in current model is torch.Size([5, 3]).\n\tsize mismatch for embeds.37.weight: copying a param with shape torch.Size([6, 3]) from checkpoint, the shape in current model is torch.Size([3, 2]).\n\tsize mismatch for embeds.38.weight: copying a param with shape torch.Size([4, 2]) from checkpoint, the shape in current model is torch.Size([14, 7]).\n\tsize mismatch for embeds.39.weight: copying a param with shape torch.Size([5, 3]) from checkpoint, the shape in current model is torch.Size([3, 2]).\n\tsize mismatch for embeds.40.weight: copying a param with shape torch.Size([16, 8]) from checkpoint, the shape in current model is torch.Size([9, 5]).\n\tsize mismatch for embeds.41.weight: copying a param with shape torch.Size([1, 1]) from checkpoint, the shape in current model is torch.Size([7, 4]).",
     "output_type": "error",
     "traceback": [
      "\u001B[0;31m---------------------------------------------------------------------------\u001B[0m",
      "\u001B[0;31mRuntimeError\u001B[0m                              Traceback (most recent call last)",
      "\u001B[0;32m/var/folders/tk/_7khhn2d6jq8cw0tlm7dm2lc0000gn/T/ipykernel_32086/763403457.py\u001B[0m in \u001B[0;36m<module>\u001B[0;34m\u001B[0m\n\u001B[1;32m      1\u001B[0m \u001B[0mmodel_infer\u001B[0m \u001B[0;34m=\u001B[0m \u001B[0mMLPRegressor\u001B[0m\u001B[0;34m(\u001B[0m\u001B[0memb_szs1\u001B[0m\u001B[0;34m,\u001B[0m \u001B[0mconts\u001B[0m\u001B[0;34m.\u001B[0m\u001B[0mshape\u001B[0m\u001B[0;34m[\u001B[0m\u001B[0;36m1\u001B[0m\u001B[0;34m]\u001B[0m\u001B[0;34m,\u001B[0m \u001B[0;36m1\u001B[0m\u001B[0;34m,\u001B[0m \u001B[0;34m[\u001B[0m\u001B[0;36m200\u001B[0m\u001B[0;34m,\u001B[0m\u001B[0;36m100\u001B[0m\u001B[0;34m]\u001B[0m\u001B[0;34m,\u001B[0m \u001B[0mp\u001B[0m\u001B[0;34m=\u001B[0m\u001B[0;36m0.4\u001B[0m\u001B[0;34m)\u001B[0m\u001B[0;34m\u001B[0m\u001B[0;34m\u001B[0m\u001B[0m\n\u001B[0;32m----> 2\u001B[0;31m \u001B[0mmodel_infer\u001B[0m\u001B[0;34m.\u001B[0m\u001B[0mload_state_dict\u001B[0m\u001B[0;34m(\u001B[0m\u001B[0mtorch\u001B[0m\u001B[0;34m.\u001B[0m\u001B[0mload\u001B[0m\u001B[0;34m(\u001B[0m\u001B[0;34m'model_artifacts/housing_price_400.pt'\u001B[0m\u001B[0;34m)\u001B[0m\u001B[0;34m)\u001B[0m\u001B[0;34m\u001B[0m\u001B[0;34m\u001B[0m\u001B[0m\n\u001B[0m\u001B[1;32m      3\u001B[0m \u001B[0mprint\u001B[0m\u001B[0;34m(\u001B[0m\u001B[0mmodel_infer\u001B[0m\u001B[0;34m.\u001B[0m\u001B[0meval\u001B[0m\u001B[0;34m(\u001B[0m\u001B[0;34m)\u001B[0m\u001B[0;34m)\u001B[0m\u001B[0;34m\u001B[0m\u001B[0;34m\u001B[0m\u001B[0m\n",
      "\u001B[0;32m~/opt/anaconda3/lib/python3.9/site-packages/torch/nn/modules/module.py\u001B[0m in \u001B[0;36mload_state_dict\u001B[0;34m(self, state_dict, strict)\u001B[0m\n\u001B[1;32m   1669\u001B[0m \u001B[0;34m\u001B[0m\u001B[0m\n\u001B[1;32m   1670\u001B[0m         \u001B[0;32mif\u001B[0m \u001B[0mlen\u001B[0m\u001B[0;34m(\u001B[0m\u001B[0merror_msgs\u001B[0m\u001B[0;34m)\u001B[0m \u001B[0;34m>\u001B[0m \u001B[0;36m0\u001B[0m\u001B[0;34m:\u001B[0m\u001B[0;34m\u001B[0m\u001B[0;34m\u001B[0m\u001B[0m\n\u001B[0;32m-> 1671\u001B[0;31m             raise RuntimeError('Error(s) in loading state_dict for {}:\\n\\t{}'.format(\n\u001B[0m\u001B[1;32m   1672\u001B[0m                                self.__class__.__name__, \"\\n\\t\".join(error_msgs)))\n\u001B[1;32m   1673\u001B[0m         \u001B[0;32mreturn\u001B[0m \u001B[0m_IncompatibleKeys\u001B[0m\u001B[0;34m(\u001B[0m\u001B[0mmissing_keys\u001B[0m\u001B[0;34m,\u001B[0m \u001B[0munexpected_keys\u001B[0m\u001B[0;34m)\u001B[0m\u001B[0;34m\u001B[0m\u001B[0;34m\u001B[0m\u001B[0m\n",
      "\u001B[0;31mRuntimeError\u001B[0m: Error(s) in loading state_dict for MLPRegressor:\n\tsize mismatch for embeds.0.weight: copying a param with shape torch.Size([25, 13]) from checkpoint, the shape in current model is torch.Size([4, 2]).\n\tsize mismatch for embeds.1.weight: copying a param with shape torch.Size([7, 4]) from checkpoint, the shape in current model is torch.Size([3, 2]).\n\tsize mismatch for embeds.3.weight: copying a param with shape torch.Size([4, 2]) from checkpoint, the shape in current model is torch.Size([1, 1]).\n\tsize mismatch for embeds.5.weight: copying a param with shape torch.Size([14, 7]) from checkpoint, the shape in current model is torch.Size([7, 4]).\n\tsize mismatch for embeds.6.weight: copying a param with shape torch.Size([6, 3]) from checkpoint, the shape in current model is torch.Size([5, 3]).\n\tsize mismatch for embeds.7.weight: copying a param with shape torch.Size([5, 3]) from checkpoint, the shape in current model is torch.Size([16, 8]).\n\tsize mismatch for embeds.8.weight: copying a param with shape torch.Size([4, 2]) from checkpoint, the shape in current model is torch.Size([3, 2]).\n\tsize mismatch for embeds.9.weight: copying a param with shape torch.Size([2, 1]) from checkpoint, the shape in current model is torch.Size([4, 2]).\n\tsize mismatch for embeds.10.weight: copying a param with shape torch.Size([2, 1]) from checkpoint, the shape in current model is torch.Size([6, 3]).\n\tsize mismatch for embeds.13.weight: copying a param with shape torch.Size([7, 4]) from checkpoint, the shape in current model is torch.Size([6, 3]).\n\tsize mismatch for embeds.14.weight: copying a param with shape torch.Size([3, 2]) from checkpoint, the shape in current model is torch.Size([2, 1]).\n\tsize mismatch for embeds.15.weight: copying a param with shape torch.Size([9, 5]) from checkpoint, the shape in current model is torch.Size([4, 2]).\n\tsize mismatch for embeds.16.weight: copying a param with shape torch.Size([5, 3]) from checkpoint, the shape in current model is torch.Size([6, 3]).\n\tsize mismatch for embeds.17.weight: copying a param with shape torch.Size([4, 2]) from checkpoint, the shape in current model is torch.Size([5, 3]).\n\tsize mismatch for embeds.18.weight: copying a param with shape torch.Size([5, 3]) from checkpoint, the shape in current model is torch.Size([4, 2]).\n\tsize mismatch for embeds.20.weight: copying a param with shape torch.Size([3, 2]) from checkpoint, the shape in current model is torch.Size([7, 4]).\n\tsize mismatch for embeds.21.weight: copying a param with shape torch.Size([7, 4]) from checkpoint, the shape in current model is torch.Size([5, 3]).\n\tsize mismatch for embeds.22.weight: copying a param with shape torch.Size([5, 3]) from checkpoint, the shape in current model is torch.Size([9, 5]).\n\tsize mismatch for embeds.23.weight: copying a param with shape torch.Size([4, 2]) from checkpoint, the shape in current model is torch.Size([5, 3]).\n\tsize mismatch for embeds.25.weight: copying a param with shape torch.Size([3, 2]) from checkpoint, the shape in current model is torch.Size([4, 2]).\n\tsize mismatch for embeds.26.weight: copying a param with shape torch.Size([8, 4]) from checkpoint, the shape in current model is torch.Size([5, 3]).\n\tsize mismatch for embeds.27.weight: copying a param with shape torch.Size([5, 3]) from checkpoint, the shape in current model is torch.Size([6, 3]).\n\tsize mismatch for embeds.28.weight: copying a param with shape torch.Size([6, 3]) from checkpoint, the shape in current model is torch.Size([4, 2]).\n\tsize mismatch for embeds.29.weight: copying a param with shape torch.Size([5, 3]) from checkpoint, the shape in current model is torch.Size([2, 1]).\n\tsize mismatch for embeds.31.weight: copying a param with shape torch.Size([6, 3]) from checkpoint, the shape in current model is torch.Size([8, 4]).\n\tsize mismatch for embeds.32.weight: copying a param with shape torch.Size([9, 5]) from checkpoint, the shape in current model is torch.Size([4, 2]).\n\tsize mismatch for embeds.34.weight: copying a param with shape torch.Size([4, 2]) from checkpoint, the shape in current model is torch.Size([25, 13]).\n\tsize mismatch for embeds.35.weight: copying a param with shape torch.Size([4, 2]) from checkpoint, the shape in current model is torch.Size([5, 3]).\n\tsize mismatch for embeds.36.weight: copying a param with shape torch.Size([3, 2]) from checkpoint, the shape in current model is torch.Size([5, 3]).\n\tsize mismatch for embeds.37.weight: copying a param with shape torch.Size([6, 3]) from checkpoint, the shape in current model is torch.Size([3, 2]).\n\tsize mismatch for embeds.38.weight: copying a param with shape torch.Size([4, 2]) from checkpoint, the shape in current model is torch.Size([14, 7]).\n\tsize mismatch for embeds.39.weight: copying a param with shape torch.Size([5, 3]) from checkpoint, the shape in current model is torch.Size([3, 2]).\n\tsize mismatch for embeds.40.weight: copying a param with shape torch.Size([16, 8]) from checkpoint, the shape in current model is torch.Size([9, 5]).\n\tsize mismatch for embeds.41.weight: copying a param with shape torch.Size([1, 1]) from checkpoint, the shape in current model is torch.Size([7, 4])."
     ]
    }
   ],
   "source": [
    "model_infer = MLPRegressor(emb_szs1, conts.shape[1], 1, [200,100], p=0.4)\n",
    "model_infer.load_state_dict(torch.load('model_artifacts/housing_price_400.pt'))\n",
    "print(model_infer.eval())"
   ]
  },
  {
   "cell_type": "code",
   "execution_count": null,
   "id": "7ea37b8c",
   "metadata": {},
   "outputs": [],
   "source": [
    "def prod_data(model, cat_prod, cont_prod, verbose=False):\n",
    "    # Pass the inputs from the cont and cat tensors to function\n",
    "    with torch.no_grad():\n",
    "        y_val = model(cat_prod, cont_prod)\n",
    "    \n",
    "    # Get preds on prod data\n",
    "    preds = [] \n",
    "    for i in range(len(cat_prod)):\n",
    "        result = y_val[i].item()\n",
    "        preds.append(result)\n",
    "        \n",
    "        if verbose == True:\n",
    "            print(f'The predicted value is: {y_val[i].item()}')\n",
    "        \n",
    "    return preds"
   ]
  },
  {
   "cell_type": "code",
   "execution_count": null,
   "id": "8506b6c7",
   "metadata": {},
   "outputs": [],
   "source": [
    "prod = prod_data(model_infer, cats, conts, verbose=True)\n",
    "# Print out prod\n",
    "print(len(prod))"
   ]
  },
  {
   "cell_type": "code",
   "execution_count": null,
   "id": "2ba6ba7b",
   "metadata": {},
   "outputs": [],
   "source": [
    "plt.scatter(y.numpy(), prod)\n",
    "plt.xlabel('Actual values')\n",
    "plt.ylabel('Predicted values')\n",
    "plt.title('Predicted values and Actual values ')\n",
    "plt.show()"
   ]
  }
 ],
 "metadata": {
  "kernelspec": {
   "display_name": "Python 3 (ipykernel)",
   "language": "python",
   "name": "python3"
  },
  "language_info": {
   "codemirror_mode": {
    "name": "ipython",
    "version": 3
   },
   "file_extension": ".py",
   "mimetype": "text/x-python",
   "name": "python",
   "nbconvert_exporter": "python",
   "pygments_lexer": "ipython3",
   "version": "3.9.13"
  }
 },
 "nbformat": 4,
 "nbformat_minor": 5
}
